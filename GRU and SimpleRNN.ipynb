{
 "cells": [
  {
   "cell_type": "code",
   "execution_count": 1,
   "metadata": {},
   "outputs": [],
   "source": [
    "%load_ext autotime\n",
    "RANDOM_STATE = 42"
   ]
  },
  {
   "cell_type": "code",
   "execution_count": 2,
   "metadata": {},
   "outputs": [
    {
     "name": "stdout",
     "output_type": "stream",
     "text": [
      "Requirement already satisfied: tweet-preprocessor in /home/anjir29/anaconda3/envs/tf-gpu-2.4/lib/python3.6/site-packages (0.6.0)\n",
      "time: 1.5 s\n"
     ]
    }
   ],
   "source": [
    "!pip install tweet-preprocessor"
   ]
  },
  {
   "cell_type": "markdown",
   "metadata": {},
   "source": [
    "## Packages"
   ]
  },
  {
   "cell_type": "code",
   "execution_count": 3,
   "metadata": {},
   "outputs": [
    {
     "name": "stdout",
     "output_type": "stream",
     "text": [
      "time: 2.3 s\n"
     ]
    }
   ],
   "source": [
    "import os\n",
    "import csv\n",
    "import json\n",
    "import string\n",
    "import random\n",
    "import numpy as np\n",
    "import pandas as pd\n",
    "from os.path import abspath, join\n",
    "from sklearn.model_selection import train_test_split\n",
    "from preprocessor import preprocess\n",
    "\n",
    "import tensorflow as tf\n",
    "from tensorflow.keras.layers import Embedding, Dense, LSTM, Input, Bidirectional, GlobalAveragePooling3D, Dropout, GRU, Conv1D, SpatialDropout1D, SimpleRNN\n",
    "from tensorflow.keras.losses import BinaryCrossentropy\n",
    "from tensorflow.keras.optimizers import Nadam, Adam\n",
    "from tensorflow.keras.preprocessing.sequence import pad_sequences\n",
    "from tensorflow.keras.preprocessing.text import Tokenizer\n",
    "from tensorflow.keras.models import Model\n",
    "from tensorflow.keras.metrics import Accuracy, Precision, Recall\n",
    "from tensorflow.keras.callbacks import EarlyStopping\n",
    "from tensorflow.keras.regularizers import l1_l2, l1, l2\n",
    "from sklearn.metrics import classification_report, precision_score, f1_score, accuracy_score, recall_score\n",
    "from matplotlib import pyplot as plt\n",
    "from tensorflow.keras.utils import plot_model"
   ]
  },
  {
   "cell_type": "markdown",
   "metadata": {},
   "source": [
    "## Dataset Loading"
   ]
  },
  {
   "cell_type": "code",
   "execution_count": 4,
   "metadata": {},
   "outputs": [
    {
     "name": "stdout",
     "output_type": "stream",
     "text": [
      "/home/anjir29/Desktop/Covid_Vaccine_Sentiment/lstm_nb/mTkTwfrKNp\n",
      "time: 1.13 ms\n"
     ]
    }
   ],
   "source": [
    "folder_name = \"\".join(random.choice(string.ascii_letters) for i in range(10))\n",
    "folder_path = abspath(folder_name)\n",
    "print(folder_path)\n",
    "os.makedirs(folder_path)"
   ]
  },
  {
   "cell_type": "code",
   "execution_count": 5,
   "metadata": {},
   "outputs": [
    {
     "data": {
      "text/html": [
       "<div>\n",
       "<style scoped>\n",
       "    .dataframe tbody tr th:only-of-type {\n",
       "        vertical-align: middle;\n",
       "    }\n",
       "\n",
       "    .dataframe tbody tr th {\n",
       "        vertical-align: top;\n",
       "    }\n",
       "\n",
       "    .dataframe thead th {\n",
       "        text-align: right;\n",
       "    }\n",
       "</style>\n",
       "<table border=\"1\" class=\"dataframe\">\n",
       "  <thead>\n",
       "    <tr style=\"text-align: right;\">\n",
       "      <th></th>\n",
       "      <th>Timestamp</th>\n",
       "      <th>Gender</th>\n",
       "      <th>Age</th>\n",
       "      <th>Did you take COVID 19 vaccine?</th>\n",
       "      <th>outcome</th>\n",
       "      <th>Sentiment</th>\n",
       "      <th>target</th>\n",
       "    </tr>\n",
       "  </thead>\n",
       "  <tbody>\n",
       "    <tr>\n",
       "      <th>1221</th>\n",
       "      <td>2021/03/09 2:11:24 PM GMT+6</td>\n",
       "      <td>Male</td>\n",
       "      <td>20-40</td>\n",
       "      <td>No</td>\n",
       "      <td>Yes</td>\n",
       "      <td>I believe that by taking vaccines we can prote...</td>\n",
       "      <td>True</td>\n",
       "    </tr>\n",
       "    <tr>\n",
       "      <th>131</th>\n",
       "      <td>2/16/2021 14:40:43</td>\n",
       "      <td>Female</td>\n",
       "      <td>20-40</td>\n",
       "      <td>No</td>\n",
       "      <td>No</td>\n",
       "      <td>If 80% of the population feels no symptoms fro...</td>\n",
       "      <td>False</td>\n",
       "    </tr>\n",
       "    <tr>\n",
       "      <th>1211</th>\n",
       "      <td>2021/03/09 12:57:34 PM GMT+6</td>\n",
       "      <td>Female</td>\n",
       "      <td>20-40</td>\n",
       "      <td>No</td>\n",
       "      <td>Yes</td>\n",
       "      <td>COVID-19 vaccination is a safer way to help bu...</td>\n",
       "      <td>True</td>\n",
       "    </tr>\n",
       "    <tr>\n",
       "      <th>785</th>\n",
       "      <td>2021/02/26 3:39:17 PM GMT+6</td>\n",
       "      <td>Male</td>\n",
       "      <td>0-20</td>\n",
       "      <td>No</td>\n",
       "      <td>No</td>\n",
       "      <td>because vaccines are not fully appropriate or ...</td>\n",
       "      <td>False</td>\n",
       "    </tr>\n",
       "    <tr>\n",
       "      <th>218</th>\n",
       "      <td>2/16/2021 18:43:49</td>\n",
       "      <td>Male</td>\n",
       "      <td>20-40</td>\n",
       "      <td>No</td>\n",
       "      <td>Yes</td>\n",
       "      <td>I haven't taken Covid Vaccine but I really sup...</td>\n",
       "      <td>True</td>\n",
       "    </tr>\n",
       "    <tr>\n",
       "      <th>1363</th>\n",
       "      <td>2021/03/28 2:02:18 PM GMT+6</td>\n",
       "      <td>Female</td>\n",
       "      <td>60-80</td>\n",
       "      <td>Yes</td>\n",
       "      <td>No</td>\n",
       "      <td>Vaccine generates low pressure.</td>\n",
       "      <td>False</td>\n",
       "    </tr>\n",
       "    <tr>\n",
       "      <th>1257</th>\n",
       "      <td>2021/03/26 9:41:09 AM GMT+6</td>\n",
       "      <td>Female</td>\n",
       "      <td>20-40</td>\n",
       "      <td>No</td>\n",
       "      <td>No</td>\n",
       "      <td>I don't believe in Covid 19 vaccine as the res...</td>\n",
       "      <td>False</td>\n",
       "    </tr>\n",
       "    <tr>\n",
       "      <th>284</th>\n",
       "      <td>2/22/2021 14:58:30</td>\n",
       "      <td>Male</td>\n",
       "      <td>20-40</td>\n",
       "      <td>No</td>\n",
       "      <td>Yes</td>\n",
       "      <td>At present this vaccine increases the immunity...</td>\n",
       "      <td>True</td>\n",
       "    </tr>\n",
       "    <tr>\n",
       "      <th>409</th>\n",
       "      <td>2/28/2021 12:17:07</td>\n",
       "      <td>Female</td>\n",
       "      <td>0-20</td>\n",
       "      <td>No</td>\n",
       "      <td>No</td>\n",
       "      <td>The flu vaccine doesn’t protect against all st...</td>\n",
       "      <td>False</td>\n",
       "    </tr>\n",
       "    <tr>\n",
       "      <th>632</th>\n",
       "      <td>2021/02/22 11:18:08 AM GMT+6</td>\n",
       "      <td>Male</td>\n",
       "      <td>0-20</td>\n",
       "      <td>No</td>\n",
       "      <td>No</td>\n",
       "      <td>Covid Vaccine isn't properly tested as the bes...</td>\n",
       "      <td>False</td>\n",
       "    </tr>\n",
       "  </tbody>\n",
       "</table>\n",
       "</div>"
      ],
      "text/plain": [
       "                         Timestamp  Gender    Age  \\\n",
       "1221   2021/03/09 2:11:24 PM GMT+6    Male  20-40   \n",
       "131             2/16/2021 14:40:43  Female  20-40   \n",
       "1211  2021/03/09 12:57:34 PM GMT+6  Female  20-40   \n",
       "785    2021/02/26 3:39:17 PM GMT+6    Male   0-20   \n",
       "218             2/16/2021 18:43:49    Male  20-40   \n",
       "1363   2021/03/28 2:02:18 PM GMT+6  Female  60-80   \n",
       "1257   2021/03/26 9:41:09 AM GMT+6  Female  20-40   \n",
       "284             2/22/2021 14:58:30    Male  20-40   \n",
       "409             2/28/2021 12:17:07  Female   0-20   \n",
       "632   2021/02/22 11:18:08 AM GMT+6    Male   0-20   \n",
       "\n",
       "     Did you take COVID 19 vaccine? outcome  \\\n",
       "1221                             No     Yes   \n",
       "131                              No      No   \n",
       "1211                             No     Yes   \n",
       "785                              No      No   \n",
       "218                              No     Yes   \n",
       "1363                            Yes      No   \n",
       "1257                             No      No   \n",
       "284                              No     Yes   \n",
       "409                              No      No   \n",
       "632                              No      No   \n",
       "\n",
       "                                              Sentiment  target  \n",
       "1221  I believe that by taking vaccines we can prote...    True  \n",
       "131   If 80% of the population feels no symptoms fro...   False  \n",
       "1211  COVID-19 vaccination is a safer way to help bu...    True  \n",
       "785   because vaccines are not fully appropriate or ...   False  \n",
       "218   I haven't taken Covid Vaccine but I really sup...    True  \n",
       "1363                    Vaccine generates low pressure.   False  \n",
       "1257  I don't believe in Covid 19 vaccine as the res...   False  \n",
       "284   At present this vaccine increases the immunity...    True  \n",
       "409   The flu vaccine doesn’t protect against all st...   False  \n",
       "632   Covid Vaccine isn't properly tested as the bes...   False  "
      ]
     },
     "execution_count": 5,
     "metadata": {},
     "output_type": "execute_result"
    },
    {
     "name": "stdout",
     "output_type": "stream",
     "text": [
      "time: 125 ms\n"
     ]
    }
   ],
   "source": [
    "dataset = pd.read_csv(abspath('./data.csv'))\n",
    "dataset['Sentiment'] = dataset['Sentiment']\n",
    "dataset['target'] = dataset['outcome'] == 'Yes'\n",
    "dataset.sample(10)"
   ]
  },
  {
   "cell_type": "markdown",
   "metadata": {},
   "source": [
    "## Dataset Split"
   ]
  },
  {
   "cell_type": "code",
   "execution_count": 6,
   "metadata": {},
   "outputs": [
    {
     "name": "stdout",
     "output_type": "stream",
     "text": [
      "time: 48.4 ms\n"
     ]
    }
   ],
   "source": [
    "X_train, X_test, y_train, y_test = train_test_split(dataset['Sentiment'], dataset['target'], test_size=0.2, random_state=RANDOM_STATE)"
   ]
  },
  {
   "cell_type": "code",
   "execution_count": 7,
   "metadata": {},
   "outputs": [
    {
     "data": {
      "text/plain": [
       "1335    Bangladesh kicked off its coronavirus vaccinat...\n",
       "579     I can't risk my closed ones' lives to experiment.\n",
       "1137    No comments on the bad sides. Focus on the bri...\n",
       "48         I don't trust doctors. We don't need vaccines.\n",
       "155     If you list any cause of death as Covid are Co...\n",
       "Name: Sentiment, dtype: object"
      ]
     },
     "execution_count": 7,
     "metadata": {},
     "output_type": "execute_result"
    },
    {
     "name": "stdout",
     "output_type": "stream",
     "text": [
      "time: 67.6 ms\n"
     ]
    }
   ],
   "source": [
    "X_train.head(5)"
   ]
  },
  {
   "cell_type": "code",
   "execution_count": 8,
   "metadata": {},
   "outputs": [
    {
     "data": {
      "text/plain": [
       "1335    False\n",
       "579     False\n",
       "1137     True\n",
       "48      False\n",
       "155     False\n",
       "Name: target, dtype: bool"
      ]
     },
     "execution_count": 8,
     "metadata": {},
     "output_type": "execute_result"
    },
    {
     "name": "stdout",
     "output_type": "stream",
     "text": [
      "time: 79.5 ms\n"
     ]
    }
   ],
   "source": [
    "y_train.head(5)"
   ]
  },
  {
   "cell_type": "markdown",
   "metadata": {},
   "source": [
    "## Model Config"
   ]
  },
  {
   "cell_type": "code",
   "execution_count": 9,
   "metadata": {},
   "outputs": [
    {
     "name": "stdout",
     "output_type": "stream",
     "text": [
      "time: 70 ms\n"
     ]
    }
   ],
   "source": [
    "model_metrices =['accuracy']\n",
    "batch_size = 64\n",
    "embedding_dimensions = 16\n",
    "loss_function = BinaryCrossentropy()\n",
    "max_sequence_length = 280\n",
    "num_distinct_words = 2**20\n",
    "optimizer = Adam()\n",
    "validation_split = 0.2"
   ]
  },
  {
   "cell_type": "code",
   "execution_count": 10,
   "metadata": {},
   "outputs": [
    {
     "name": "stdout",
     "output_type": "stream",
     "text": [
      "time: 99.4 ms\n"
     ]
    }
   ],
   "source": [
    "tokenizer = Tokenizer(num_words=num_distinct_words)\n",
    "tokenizer.fit_on_texts(X_train)"
   ]
  },
  {
   "cell_type": "code",
   "execution_count": 11,
   "metadata": {},
   "outputs": [
    {
     "name": "stdout",
     "output_type": "stream",
     "text": [
      "time: 74.6 ms\n"
     ]
    }
   ],
   "source": [
    "X_train = tokenizer.texts_to_sequences(X_train)\n",
    "X_test = tokenizer.texts_to_sequences(X_test)"
   ]
  },
  {
   "cell_type": "code",
   "execution_count": 12,
   "metadata": {},
   "outputs": [
    {
     "name": "stdout",
     "output_type": "stream",
     "text": [
      "time: 75 ms\n"
     ]
    }
   ],
   "source": [
    "padded_X_train = pad_sequences(X_train, maxlen=max_sequence_length, value=0) # 0.0 because it corresponds with <PAD>\n",
    "padded_X_test = pad_sequences(X_test, maxlen=max_sequence_length, value=0)"
   ]
  },
  {
   "cell_type": "markdown",
   "metadata": {},
   "source": [
    "## Model Layers"
   ]
  },
  {
   "cell_type": "markdown",
   "metadata": {},
   "source": [
    "#### Just Change GRU to SimpleRNN to generate SimpleRnn results"
   ]
  },
  {
   "cell_type": "code",
   "execution_count": 13,
   "metadata": {},
   "outputs": [
    {
     "name": "stdout",
     "output_type": "stream",
     "text": [
      "time: 991 ms\n"
     ]
    }
   ],
   "source": [
    "input = Input(shape=(max_sequence_length))\n",
    "layers = Embedding(num_distinct_words, embedding_dimensions, input_length=max_sequence_length)(input)\n",
    "# layers = Conv1D(8, 16)(layers)\n",
    "# layers = SpatialDropout1D(0.20)(layers)\n",
    "layers = GRU(32, dropout=0.20)(layers)\n",
    "# layers = Dropout(0.20)(layers)\n",
    "# layers = LSTM(32, dropout=0.2)(layers)\n",
    "# layers = Dense(16, activation='tanh')(layers)\n",
    "output = Dense(1, activation='sigmoid',\n",
    "    # kernel_regularizer=l1_l2(), bias_regularizer=l2(), activity_regularizer=l2()\n",
    ")(layers)"
   ]
  },
  {
   "cell_type": "code",
   "execution_count": 14,
   "metadata": {},
   "outputs": [
    {
     "name": "stdout",
     "output_type": "stream",
     "text": [
      "time: 24.3 ms\n"
     ]
    }
   ],
   "source": [
    "model = Model(inputs=input, outputs=output)\n",
    "model.compile(optimizer=optimizer, loss=loss_function, metrics=model_metrices)"
   ]
  },
  {
   "cell_type": "code",
   "execution_count": 15,
   "metadata": {},
   "outputs": [
    {
     "name": "stdout",
     "output_type": "stream",
     "text": [
      "Model: \"model\"\n",
      "_________________________________________________________________\n",
      "Layer (type)                 Output Shape              Param #   \n",
      "=================================================================\n",
      "input_1 (InputLayer)         [(None, 280)]             0         \n",
      "_________________________________________________________________\n",
      "embedding (Embedding)        (None, 280, 16)           16777216  \n",
      "_________________________________________________________________\n",
      "gru (GRU)                    (None, 32)                4800      \n",
      "_________________________________________________________________\n",
      "dense (Dense)                (None, 1)                 33        \n",
      "=================================================================\n",
      "Total params: 16,782,049\n",
      "Trainable params: 16,782,049\n",
      "Non-trainable params: 0\n",
      "_________________________________________________________________\n",
      "time: 64.9 ms\n"
     ]
    }
   ],
   "source": [
    "model.summary()"
   ]
  },
  {
   "cell_type": "code",
   "execution_count": 16,
   "metadata": {},
   "outputs": [
    {
     "data": {
      "image/png": "[encoded data removed]",
      "text/plain": [
       "<IPython.core.display.Image object>"
      ]
     },
     "execution_count": 16,
     "metadata": {},
     "output_type": "execute_result"
    },
    {
     "name": "stdout",
     "output_type": "stream",
     "text": [
      "time: 180 ms\n"
     ]
    }
   ],
   "source": [
    "plot_model(model, show_shapes=True, to_file=join(folder_path, 'model.png'))"
   ]
  },
  {
   "cell_type": "code",
   "execution_count": 17,
   "metadata": {},
   "outputs": [
    {
     "name": "stdout",
     "output_type": "stream",
     "text": [
      "Epoch 1/100\n",
      "15/15 [==============================] - 6s 214ms/step - loss: 0.6929 - accuracy: 0.4672 - val_loss: 0.6902 - val_accuracy: 0.5088\n",
      "Epoch 2/100\n",
      "15/15 [==============================] - 3s 170ms/step - loss: 0.6879 - accuracy: 0.5174 - val_loss: 0.6863 - val_accuracy: 0.5088\n",
      "Epoch 3/100\n",
      "15/15 [==============================] - 2s 166ms/step - loss: 0.6796 - accuracy: 0.5265 - val_loss: 0.6753 - val_accuracy: 0.5133\n",
      "Epoch 4/100\n",
      "15/15 [==============================] - 3s 169ms/step - loss: 0.6611 - accuracy: 0.5784 - val_loss: 0.6365 - val_accuracy: 0.6681\n",
      "Epoch 5/100\n",
      "15/15 [==============================] - 2s 165ms/step - loss: 0.5876 - accuracy: 0.7092 - val_loss: 0.5614 - val_accuracy: 0.7655\n",
      "Epoch 6/100\n",
      "15/15 [==============================] - 2s 166ms/step - loss: 0.4615 - accuracy: 0.8761 - val_loss: 0.4742 - val_accuracy: 0.7832\n",
      "Epoch 7/100\n",
      "15/15 [==============================] - 2s 164ms/step - loss: 0.3686 - accuracy: 0.8739 - val_loss: 0.4865 - val_accuracy: 0.7876\n",
      "Epoch 8/100\n",
      "15/15 [==============================] - 3s 185ms/step - loss: 0.3574 - accuracy: 0.8816 - val_loss: 0.4714 - val_accuracy: 0.7743\n",
      "Epoch 9/100\n",
      "15/15 [==============================] - 3s 176ms/step - loss: 0.3096 - accuracy: 0.9074 - val_loss: 0.4677 - val_accuracy: 0.7832\n",
      "Epoch 10/100\n",
      "15/15 [==============================] - 3s 172ms/step - loss: 0.2674 - accuracy: 0.9229 - val_loss: 0.4740 - val_accuracy: 0.7788\n",
      "Epoch 11/100\n",
      "15/15 [==============================] - 3s 188ms/step - loss: 0.2173 - accuracy: 0.9393 - val_loss: 0.4766 - val_accuracy: 0.7788\n",
      "Epoch 12/100\n",
      "15/15 [==============================] - 3s 174ms/step - loss: 0.1917 - accuracy: 0.9476 - val_loss: 0.5047 - val_accuracy: 0.7655\n",
      "Epoch 13/100\n",
      "15/15 [==============================] - 3s 180ms/step - loss: 0.1622 - accuracy: 0.9557 - val_loss: 0.5136 - val_accuracy: 0.7832\n",
      "Epoch 14/100\n",
      "15/15 [==============================] - 3s 191ms/step - loss: 0.1374 - accuracy: 0.9686 - val_loss: 0.5291 - val_accuracy: 0.7743\n",
      "Epoch 15/100\n",
      "15/15 [==============================] - 3s 197ms/step - loss: 0.1105 - accuracy: 0.9687 - val_loss: 0.5507 - val_accuracy: 0.7788\n",
      "Epoch 16/100\n",
      "15/15 [==============================] - 3s 180ms/step - loss: 0.0913 - accuracy: 0.9750 - val_loss: 0.5696 - val_accuracy: 0.7832\n",
      "Epoch 17/100\n",
      "15/15 [==============================] - 3s 175ms/step - loss: 0.0760 - accuracy: 0.9784 - val_loss: 0.5971 - val_accuracy: 0.7876\n",
      "time: 48.6 s\n"
     ]
    }
   ],
   "source": [
    "earlyStopCb = EarlyStopping(monitor='val_accuracy', restore_best_weights=True, patience=10)\n",
    "history = model.fit(padded_X_train, y_train, batch_size=batch_size, epochs=100, validation_split=validation_split, callbacks=[earlyStopCb])"
   ]
  },
  {
   "cell_type": "code",
   "execution_count": 18,
   "metadata": {},
   "outputs": [
    {
     "data": {
      "image/png": "[encoded data removed]",
      "text/plain": [
       "<Figure size 432x288 with 1 Axes>"
      ]
     },
     "metadata": {
      "needs_background": "light"
     },
     "output_type": "display_data"
    },
    {
     "name": "stdout",
     "output_type": "stream",
     "text": [
      "time: 238 ms\n"
     ]
    }
   ],
   "source": [
    "plt.plot(history.history['accuracy'])\n",
    "plt.plot(history.history['val_accuracy'])\n",
    "plt.title('model accuracy')\n",
    "plt.ylabel('accuracy')\n",
    "plt.xlabel('epoch')\n",
    "plt.legend(['accuracy', 'val accuracy'], loc='upper left')\n",
    "plt.savefig(join(folder_path, 'history.png'))\n",
    "plt.show()"
   ]
  },
  {
   "cell_type": "markdown",
   "metadata": {},
   "source": [
    "## Classification Reports"
   ]
  },
  {
   "cell_type": "code",
   "execution_count": 19,
   "metadata": {},
   "outputs": [
    {
     "name": "stdout",
     "output_type": "stream",
     "text": [
      "              precision    recall  f1-score   support\n",
      "\n",
      "       False       0.61      0.83      0.70       117\n",
      "        True       0.84      0.62      0.72       165\n",
      "\n",
      "    accuracy                           0.71       282\n",
      "   macro avg       0.72      0.73      0.71       282\n",
      "weighted avg       0.74      0.71      0.71       282\n",
      "\n",
      "time: 331 ms\n"
     ]
    }
   ],
   "source": [
    "results = (model.predict(padded_X_test)).round()\n",
    "report_dict = classification_report(y_test, results, output_dict=True)\n",
    "report = classification_report(y_test, results)\n",
    "print(report)\n",
    "with open(join(folder_path, 'report.json'), 'w') as fp:\n",
    "    json.dump(report_dict, fp, indent=4)"
   ]
  }
 ],
 "metadata": {
  "kernelspec": {
   "display_name": "Python 3",
   "language": "python",
   "name": "python3"
  },
  "language_info": {
   "codemirror_mode": {
    "name": "ipython",
    "version": 3
   },
   "file_extension": ".py",
   "mimetype": "text/x-python",
   "name": "python",
   "nbconvert_exporter": "python",
   "pygments_lexer": "ipython3",
   "version": "3.6.12"
  }
 },
 "nbformat": 4,
 "nbformat_minor": 2
}
