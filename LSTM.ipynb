{
 "cells": [
  {
   "cell_type": "code",
   "execution_count": 1,
   "metadata": {},
   "outputs": [],
   "source": [
    "%load_ext autotime\n",
    "RANDOM_STATE = 42"
   ]
  },
  {
   "cell_type": "markdown",
   "metadata": {},
   "source": [
    "## Packages"
   ]
  },
  {
   "cell_type": "code",
   "execution_count": 2,
   "metadata": {},
   "outputs": [
    {
     "name": "stdout",
     "output_type": "stream",
     "text": [
      "time: 31.6 s\n"
     ]
    }
   ],
   "source": [
    "import pandas as pd\n",
    "from os.path import abspath\n",
    "from sklearn.model_selection import train_test_split\n",
    "\n",
    "import tensorflow as tf\n",
    "from tensorflow.keras.layers import Embedding, Dense, LSTM, Input, Bidirectional, GlobalMaxPool1D, Dropout\n",
    "from tensorflow.keras.losses import BinaryCrossentropy\n",
    "from tensorflow.keras.optimizers import Nadam\n",
    "from tensorflow.keras.preprocessing.sequence import pad_sequences\n",
    "from tensorflow.keras.preprocessing.text import Tokenizer\n",
    "from tensorflow.keras.models import Model\n",
    "from tensorflow.keras.metrics import Accuracy, Precision, Recall\n",
    "from tensorflow.keras.callbacks import EarlyStopping\n",
    "from tensorflow.keras.regularizers import l1_l2\n",
    "from sklearn.metrics import classification_report\n",
    "from matplotlib import pyplot as plt"
   ]
  },
  {
   "cell_type": "markdown",
   "metadata": {},
   "source": [
    "## Dataset Load"
   ]
  },
  {
   "cell_type": "code",
   "execution_count": 3,
   "metadata": {},
   "outputs": [
    {
     "data": {
      "text/html": [
       "<div>\n",
       "<style scoped>\n",
       "    .dataframe tbody tr th:only-of-type {\n",
       "        vertical-align: middle;\n",
       "    }\n",
       "\n",
       "    .dataframe tbody tr th {\n",
       "        vertical-align: top;\n",
       "    }\n",
       "\n",
       "    .dataframe thead th {\n",
       "        text-align: right;\n",
       "    }\n",
       "</style>\n",
       "<table border=\"1\" class=\"dataframe\">\n",
       "  <thead>\n",
       "    <tr style=\"text-align: right;\">\n",
       "      <th></th>\n",
       "      <th>Timestamp</th>\n",
       "      <th>Gender</th>\n",
       "      <th>Age</th>\n",
       "      <th>Did you take COVID 19 vaccine?</th>\n",
       "      <th>outcome</th>\n",
       "      <th>Sentiment</th>\n",
       "      <th>target</th>\n",
       "    </tr>\n",
       "  </thead>\n",
       "  <tbody>\n",
       "    <tr>\n",
       "      <th>0</th>\n",
       "      <td>2/16/2021 11:22:08</td>\n",
       "      <td>Male</td>\n",
       "      <td>40-60</td>\n",
       "      <td>Yes</td>\n",
       "      <td>Yes</td>\n",
       "      <td>it will keep us safe from covid-19. i think ev...</td>\n",
       "      <td>True</td>\n",
       "    </tr>\n",
       "    <tr>\n",
       "      <th>1</th>\n",
       "      <td>2/16/2021 11:23:25</td>\n",
       "      <td>Male</td>\n",
       "      <td>20-40</td>\n",
       "      <td>No</td>\n",
       "      <td>Yes</td>\n",
       "      <td>we should be taking vaccines as it reduces the...</td>\n",
       "      <td>True</td>\n",
       "    </tr>\n",
       "    <tr>\n",
       "      <th>2</th>\n",
       "      <td>2/16/2021 11:25:06</td>\n",
       "      <td>Male</td>\n",
       "      <td>20-40</td>\n",
       "      <td>No</td>\n",
       "      <td>Yes</td>\n",
       "      <td>vaccines are helpful for us. we should take a ...</td>\n",
       "      <td>True</td>\n",
       "    </tr>\n",
       "    <tr>\n",
       "      <th>3</th>\n",
       "      <td>2/16/2021 11:25:30</td>\n",
       "      <td>Male</td>\n",
       "      <td>20-40</td>\n",
       "      <td>No</td>\n",
       "      <td>Yes</td>\n",
       "      <td>because this vaccine has around 80 to 90% accu...</td>\n",
       "      <td>True</td>\n",
       "    </tr>\n",
       "    <tr>\n",
       "      <th>4</th>\n",
       "      <td>2/16/2021 11:25:38</td>\n",
       "      <td>Female</td>\n",
       "      <td>20-40</td>\n",
       "      <td>No</td>\n",
       "      <td>Yes</td>\n",
       "      <td>it will be good for humanity.</td>\n",
       "      <td>True</td>\n",
       "    </tr>\n",
       "    <tr>\n",
       "      <th>5</th>\n",
       "      <td>2/16/2021 11:25:45</td>\n",
       "      <td>Female</td>\n",
       "      <td>20-40</td>\n",
       "      <td>No</td>\n",
       "      <td>Yes</td>\n",
       "      <td>everybody should take covid vaccine</td>\n",
       "      <td>True</td>\n",
       "    </tr>\n",
       "    <tr>\n",
       "      <th>6</th>\n",
       "      <td>2/16/2021 11:26:04</td>\n",
       "      <td>Male</td>\n",
       "      <td>20-40</td>\n",
       "      <td>No</td>\n",
       "      <td>Yes</td>\n",
       "      <td>let's get vaccinated. it is 100% safe.</td>\n",
       "      <td>True</td>\n",
       "    </tr>\n",
       "    <tr>\n",
       "      <th>7</th>\n",
       "      <td>2/16/2021 11:26:47</td>\n",
       "      <td>Male</td>\n",
       "      <td>20-40</td>\n",
       "      <td>No</td>\n",
       "      <td>Yes</td>\n",
       "      <td>it's good to take covid vaccine</td>\n",
       "      <td>True</td>\n",
       "    </tr>\n",
       "    <tr>\n",
       "      <th>8</th>\n",
       "      <td>2/16/2021 11:27:36</td>\n",
       "      <td>Male</td>\n",
       "      <td>0-20</td>\n",
       "      <td>No</td>\n",
       "      <td>Yes</td>\n",
       "      <td>yes. i support this vaccine program. because i...</td>\n",
       "      <td>True</td>\n",
       "    </tr>\n",
       "    <tr>\n",
       "      <th>9</th>\n",
       "      <td>2/16/2021 11:28:41</td>\n",
       "      <td>Male</td>\n",
       "      <td>20-40</td>\n",
       "      <td>No</td>\n",
       "      <td>Yes</td>\n",
       "      <td>100% safe to the user. people should hurry bef...</td>\n",
       "      <td>True</td>\n",
       "    </tr>\n",
       "  </tbody>\n",
       "</table>\n",
       "</div>"
      ],
      "text/plain": [
       "            Timestamp  Gender    Age Did you take COVID 19 vaccine? outcome  \\\n",
       "0  2/16/2021 11:22:08    Male  40-60                            Yes     Yes   \n",
       "1  2/16/2021 11:23:25    Male  20-40                             No     Yes   \n",
       "2  2/16/2021 11:25:06    Male  20-40                             No     Yes   \n",
       "3  2/16/2021 11:25:30    Male  20-40                             No     Yes   \n",
       "4  2/16/2021 11:25:38  Female  20-40                             No     Yes   \n",
       "5  2/16/2021 11:25:45  Female  20-40                             No     Yes   \n",
       "6  2/16/2021 11:26:04    Male  20-40                             No     Yes   \n",
       "7  2/16/2021 11:26:47    Male  20-40                             No     Yes   \n",
       "8  2/16/2021 11:27:36    Male   0-20                             No     Yes   \n",
       "9  2/16/2021 11:28:41    Male  20-40                             No     Yes   \n",
       "\n",
       "                                           Sentiment  target  \n",
       "0  it will keep us safe from covid-19. i think ev...    True  \n",
       "1  we should be taking vaccines as it reduces the...    True  \n",
       "2  vaccines are helpful for us. we should take a ...    True  \n",
       "3  because this vaccine has around 80 to 90% accu...    True  \n",
       "4                      it will be good for humanity.    True  \n",
       "5                everybody should take covid vaccine    True  \n",
       "6             let's get vaccinated. it is 100% safe.    True  \n",
       "7                    it's good to take covid vaccine    True  \n",
       "8  yes. i support this vaccine program. because i...    True  \n",
       "9  100% safe to the user. people should hurry bef...    True  "
      ]
     },
     "execution_count": 3,
     "metadata": {},
     "output_type": "execute_result"
    },
    {
     "name": "stdout",
     "output_type": "stream",
     "text": [
      "time: 217 ms\n"
     ]
    }
   ],
   "source": [
    "dataset = pd.read_csv(abspath('./data.csv'))\n",
    "dataset['Sentiment'] = dataset['Sentiment'].str.lower()\n",
    "dataset['target'] = dataset['outcome'] == 'Yes'\n",
    "dataset.head(10)"
   ]
  },
  {
   "cell_type": "markdown",
   "metadata": {},
   "source": [
    "## Train-Test Split"
   ]
  },
  {
   "cell_type": "code",
   "execution_count": 4,
   "metadata": {},
   "outputs": [
    {
     "name": "stdout",
     "output_type": "stream",
     "text": [
      "time: 2.2 ms\n"
     ]
    }
   ],
   "source": [
    "X_train, X_test, y_train, y_test = train_test_split(dataset['Sentiment'], dataset['target'], test_size=0.2, random_state=RANDOM_STATE)"
   ]
  },
  {
   "cell_type": "code",
   "execution_count": 5,
   "metadata": {},
   "outputs": [
    {
     "data": {
      "text/plain": [
       "1335    bangladesh kicked off its coronavirus vaccinat...\n",
       "579     i can't risk my closed ones' lives to experiment.\n",
       "1137    no comments on the bad sides. focus on the bri...\n",
       "48         i don't trust doctors. we don't need vaccines.\n",
       "155     if you list any cause of death as covid are co...\n",
       "Name: Sentiment, dtype: object"
      ]
     },
     "execution_count": 5,
     "metadata": {},
     "output_type": "execute_result"
    },
    {
     "name": "stdout",
     "output_type": "stream",
     "text": [
      "time: 3.51 ms\n"
     ]
    }
   ],
   "source": [
    "X_train.head(5)"
   ]
  },
  {
   "cell_type": "code",
   "execution_count": 6,
   "metadata": {},
   "outputs": [
    {
     "data": {
      "text/plain": [
       "1335    False\n",
       "579     False\n",
       "1137     True\n",
       "48      False\n",
       "155     False\n",
       "Name: target, dtype: bool"
      ]
     },
     "execution_count": 6,
     "metadata": {},
     "output_type": "execute_result"
    },
    {
     "name": "stdout",
     "output_type": "stream",
     "text": [
      "time: 2.77 ms\n"
     ]
    }
   ],
   "source": [
    "y_train.head(5)"
   ]
  },
  {
   "cell_type": "markdown",
   "metadata": {},
   "source": [
    "## Model"
   ]
  },
  {
   "cell_type": "code",
   "execution_count": 7,
   "metadata": {},
   "outputs": [
    {
     "name": "stdout",
     "output_type": "stream",
     "text": [
      "time: 768 µs\n"
     ]
    }
   ],
   "source": [
    "# Model Config\n",
    "model_metrices =['accuracy']\n",
    "batch_size = 64\n",
    "embedding_dimensions = 16\n",
    "loss_function = BinaryCrossentropy()\n",
    "max_sequence_length = 10\n",
    "num_distinct_words = 5000\n",
    "optimizer = 'adam'\n",
    "validation_split = 0.2"
   ]
  },
  {
   "cell_type": "code",
   "execution_count": 8,
   "metadata": {},
   "outputs": [
    {
     "name": "stdout",
     "output_type": "stream",
     "text": [
      "time: 26.4 ms\n"
     ]
    }
   ],
   "source": [
    "tokenizer = Tokenizer(num_words=num_distinct_words)\n",
    "tokenizer.fit_on_texts(X_train)"
   ]
  },
  {
   "cell_type": "code",
   "execution_count": 9,
   "metadata": {},
   "outputs": [
    {
     "name": "stdout",
     "output_type": "stream",
     "text": [
      "time: 25.3 ms\n"
     ]
    }
   ],
   "source": [
    "X_train = tokenizer.texts_to_sequences(X_train)\n",
    "X_test = tokenizer.texts_to_sequences(X_test)"
   ]
  },
  {
   "cell_type": "code",
   "execution_count": 10,
   "metadata": {},
   "outputs": [
    {
     "name": "stdout",
     "output_type": "stream",
     "text": [
      "time: 11 ms\n"
     ]
    }
   ],
   "source": [
    "padded_X_train = pad_sequences(X_train, maxlen=max_sequence_length, value=0) # 0.0 because it corresponds with <PAD>\n",
    "padded_X_test = pad_sequences(X_test, maxlen=max_sequence_length, value=0)"
   ]
  },
  {
   "cell_type": "code",
   "execution_count": 11,
   "metadata": {},
   "outputs": [
    {
     "name": "stdout",
     "output_type": "stream",
     "text": [
      "time: 8.1 s\n"
     ]
    }
   ],
   "source": [
    "lstm_input = Input(shape=(max_sequence_length))\n",
    "lstm_layer = Embedding(num_distinct_words, embedding_dimensions, input_length = max_sequence_length)(lstm_input)\n",
    "\n",
    "lstm_layer = LSTM(64)(lstm_layer)\n",
    "\n",
    "lstm_layer = Dense(32, activation='relu')(lstm_layer)\n",
    "\n",
    "lstm_output = Dense(1, activation='sigmoid')(lstm_layer)"
   ]
  },
  {
   "cell_type": "code",
   "execution_count": 12,
   "metadata": {},
   "outputs": [
    {
     "name": "stdout",
     "output_type": "stream",
     "text": [
      "time: 27.1 ms\n"
     ]
    }
   ],
   "source": [
    "lstm_model = Model(inputs=lstm_input, outputs=lstm_output)\n",
    "lstm_model.compile(optimizer=optimizer, loss=loss_function, metrics=model_metrices)"
   ]
  },
  {
   "cell_type": "code",
   "execution_count": 13,
   "metadata": {},
   "outputs": [
    {
     "name": "stdout",
     "output_type": "stream",
     "text": [
      "Model: \"model\"\n",
      "_________________________________________________________________\n",
      "Layer (type)                 Output Shape              Param #   \n",
      "=================================================================\n",
      "input_1 (InputLayer)         [(None, 10)]              0         \n",
      "_________________________________________________________________\n",
      "embedding (Embedding)        (None, 10, 16)            80000     \n",
      "_________________________________________________________________\n",
      "lstm (LSTM)                  (None, 64)                20736     \n",
      "_________________________________________________________________\n",
      "dense (Dense)                (None, 32)                2080      \n",
      "_________________________________________________________________\n",
      "dense_1 (Dense)              (None, 1)                 33        \n",
      "=================================================================\n",
      "Total params: 102,849\n",
      "Trainable params: 102,849\n",
      "Non-trainable params: 0\n",
      "_________________________________________________________________\n",
      "time: 2.99 ms\n"
     ]
    }
   ],
   "source": [
    "lstm_model.summary()"
   ]
  },
  {
   "cell_type": "code",
   "execution_count": 14,
   "metadata": {},
   "outputs": [
    {
     "name": "stdout",
     "output_type": "stream",
     "text": [
      "Epoch 1/100\n",
      "15/15 [==============================] - 30s 66ms/step - loss: 0.6926 - accuracy: 0.5254 - val_loss: 0.6901 - val_accuracy: 0.5088\n",
      "Epoch 2/100\n",
      "15/15 [==============================] - 0s 7ms/step - loss: 0.6852 - accuracy: 0.5218 - val_loss: 0.6735 - val_accuracy: 0.5619\n",
      "Epoch 3/100\n",
      "15/15 [==============================] - 0s 7ms/step - loss: 0.6374 - accuracy: 0.7721 - val_loss: 0.5840 - val_accuracy: 0.6947\n",
      "Epoch 4/100\n",
      "15/15 [==============================] - 0s 7ms/step - loss: 0.4442 - accuracy: 0.8085 - val_loss: 0.6222 - val_accuracy: 0.7257\n",
      "Epoch 5/100\n",
      "15/15 [==============================] - 0s 7ms/step - loss: 0.2892 - accuracy: 0.8924 - val_loss: 0.5333 - val_accuracy: 0.7478\n",
      "Epoch 6/100\n",
      "15/15 [==============================] - 0s 7ms/step - loss: 0.2126 - accuracy: 0.9313 - val_loss: 0.6413 - val_accuracy: 0.7257\n",
      "Epoch 7/100\n",
      "15/15 [==============================] - 0s 7ms/step - loss: 0.2393 - accuracy: 0.8995 - val_loss: 0.5566 - val_accuracy: 0.7434\n",
      "Epoch 8/100\n",
      "15/15 [==============================] - 0s 7ms/step - loss: 0.1253 - accuracy: 0.9707 - val_loss: 0.7189 - val_accuracy: 0.7301\n",
      "time: 31.5 s\n"
     ]
    }
   ],
   "source": [
    "earlyStopCb = EarlyStopping(monitor='val_accuracy', restore_best_weights=True, patience=3)\n",
    "lstm_history = lstm_model.fit(padded_X_train, y_train, batch_size=batch_size, epochs=100, validation_split=validation_split, callbacks=[earlyStopCb])"
   ]
  },
  {
   "cell_type": "markdown",
   "metadata": {},
   "source": [
    "## Plotting"
   ]
  },
  {
   "cell_type": "code",
   "execution_count": 20,
   "metadata": {},
   "outputs": [
    {
     "data": {
      "image/png": "[encoded data removed]",
      "text/plain": [
       "<Figure size 432x288 with 1 Axes>"
      ]
     },
     "metadata": {
      "needs_background": "light"
     },
     "output_type": "display_data"
    },
    {
     "name": "stdout",
     "output_type": "stream",
     "text": [
      "time: 130 ms\n"
     ]
    }
   ],
   "source": [
    "plt.plot(lstm_history.history['accuracy'])\n",
    "plt.plot(lstm_history.history['val_accuracy'])\n",
    "plt.title('model accuracy')\n",
    "plt.ylabel('accuracy')\n",
    "plt.xlabel('epoch')\n",
    "plt.legend(['train', 'test'], loc='upper left')\n",
    "plt.show()"
   ]
  },
  {
   "cell_type": "code",
   "execution_count": 21,
   "metadata": {},
   "outputs": [
    {
     "name": "stdout",
     "output_type": "stream",
     "text": [
      "time: 57.4 ms\n"
     ]
    }
   ],
   "source": [
    "lstm_results = (lstm_model.predict(padded_X_test)).round()"
   ]
  },
  {
   "cell_type": "code",
   "execution_count": 22,
   "metadata": {},
   "outputs": [
    {
     "name": "stdout",
     "output_type": "stream",
     "text": [
      "time: 5.88 ms\n"
     ]
    }
   ],
   "source": [
    "lstm_report = classification_report(y_test, lstm_results)"
   ]
  },
  {
   "cell_type": "code",
   "execution_count": 23,
   "metadata": {},
   "outputs": [
    {
     "name": "stdout",
     "output_type": "stream",
     "text": [
      "              precision    recall  f1-score   support\n",
      "\n",
      "       False       0.67      0.75      0.71       117\n",
      "        True       0.81      0.74      0.77       165\n",
      "\n",
      "    accuracy                           0.74       282\n",
      "   macro avg       0.74      0.75      0.74       282\n",
      "weighted avg       0.75      0.74      0.75       282\n",
      "\n",
      "time: 622 µs\n"
     ]
    }
   ],
   "source": [
    "print(lstm_report)"
   ]
  }
 ],
 "metadata": {
  "kernelspec": {
   "display_name": "Python 3",
   "language": "python",
   "name": "python3"
  },
  "language_info": {
   "codemirror_mode": {
    "name": "ipython",
    "version": 3
   },
   "file_extension": ".py",
   "mimetype": "text/x-python",
   "name": "python",
   "nbconvert_exporter": "python",
   "pygments_lexer": "ipython3",
   "version": "3.6.12"
  }
 },
 "nbformat": 4,
 "nbformat_minor": 2
}
